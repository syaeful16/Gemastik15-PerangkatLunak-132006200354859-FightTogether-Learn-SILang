{
 "cells": [
  {
   "cell_type": "code",
   "execution_count": 1,
   "metadata": {},
   "outputs": [],
   "source": [
    "from flask import Flask, render_template, Response, request, redirect, url_for\n",
    "import cv2\n",
    "import mediapipe as mp\n",
    "import numpy as np\n",
    "from tensorflow.keras.models import load_model\n",
    "from tensorflow.keras.preprocessing import image\n",
    "import tensorflow as tf"
   ]
  },
  {
   "cell_type": "code",
   "execution_count": 2,
   "metadata": {},
   "outputs": [],
   "source": [
    "CATEGORIES = ['A', 'B', 'C', 'D', 'E', 'F', 'G', 'H', 'I', 'J', 'K', 'L', 'M', 'N', 'O', 'P', 'Q', 'R', 'S', 'T', 'U', 'V', 'W', 'X', 'Y', 'Z']\n",
    "model = load_model('learnsilang.h5')\n",
    "\n",
    "model.compile(\n",
    "        optimizer=tf.keras.optimizers.Adam(learning_rate=0.001),\n",
    "        loss=tf.keras.losses.SparseCategoricalCrossentropy(from_logits=False, reduction=\"auto\", name=\"sparse_categorical_crossentropy\"),\n",
    "        metrics=['accuracy']        \n",
    "        )"
   ]
  },
  {
   "cell_type": "code",
   "execution_count": 3,
   "metadata": {},
   "outputs": [],
   "source": [
    "mpHands = mp.solutions.hands\n",
    "hands = mpHands.Hands(max_num_hands=1)\n",
    "mpDraw = mp.solutions.drawing_utils"
   ]
  },
  {
   "cell_type": "code",
   "execution_count": 4,
   "metadata": {},
   "outputs": [],
   "source": [
    "def prediksi(image):\n",
    "    image = cv2.resize(image, (64, 64))\n",
    "    image = image.reshape(-1, 64, 64, 1).astype(float)\n",
    "    prediction = np.argmax(model.predict(image))\n",
    "\n",
    "    return CATEGORIES[prediction]"
   ]
  },
  {
   "cell_type": "code",
   "execution_count": 6,
   "metadata": {},
   "outputs": [],
   "source": [
    "def detectHandPredict(frame):\n",
    "    results = hands.process(frame)\n",
    "    h, w, _ = frame.shape\n",
    "\n",
    "    hands_status = {'Right': False, 'Left': False, 'Right_index' : None, 'Left_index': None}\n",
    "\n",
    "    if results.multi_hand_landmarks:\n",
    "        for hand_index, hand_landmarks in enumerate(results.multi_hand_landmarks):\n",
    "            landmarks = []\n",
    "\n",
    "            for landmark in hand_landmarks.landmark:\n",
    "                landmarks.append((int(landmark.x * w), int(landmark.y * h), (landmark.z * w)))\n",
    "\n",
    "            x_coordinates = np.array(landmarks)[:,0]\n",
    "            y_coordinates = np.array(landmarks)[:,1]\n",
    "            x1  = int(np.min(x_coordinates) - 10)\n",
    "            y1  = int(np.min(y_coordinates) - 10)\n",
    "            x2  = int(np.max(x_coordinates) + 10)\n",
    "            y2  = int(np.max(y_coordinates) + 10)\n",
    "\n",
    "            for id_hand, hand_info in enumerate(results.multi_handedness):\n",
    "                hand_type = hand_info.classification[0].label\n",
    "                hands_status[hand_type] = True\n",
    "\n",
    "                if hands_status[hand_type]:\n",
    "                    # cv2.putText(frame, hand_type + ' Hand Detected', (10, (hand_index+1) * 30),cv2.FONT_HERSHEY_PLAIN, 2, (255,0,0), 2)\n",
    "                    cv2.rectangle(frame, (x1-20, y1-20), (x2+20, y2+20), (155, 0, 255), 2, cv2.LINE_8)\n",
    "                    crop = frame[(y1-40):(y2+40), (x1-40):(x2+40)]\n",
    "\n",
    "                    # Prediksi\n",
    "                    crop = cv2.cvtColor(crop, cv2.COLOR_BGR2GRAY)\n",
    "                    result = prediksi(crop)\n",
    "                    return result\n",
    "\n",
    "            mpDraw.draw_landmarks(frame, hand_landmarks, mpHands.HAND_CONNECTIONS, \n",
    "            mpDraw.DrawingSpec(color=(85, 255, 211), thickness=2, circle_radius=2))\n"
   ]
  },
  {
   "cell_type": "code",
   "execution_count": 7,
   "metadata": {},
   "outputs": [],
   "source": [
    "camm = cv2.VideoCapture(1)"
   ]
  },
  {
   "cell_type": "code",
   "execution_count": 8,
   "metadata": {},
   "outputs": [],
   "source": [
    "Aplhabet = ['A', 'B', 'C', 'D', 'E', 'F', 'G', 'H', 'I', 'J', 'K', 'L', 'M', 'N', 'O', 'P', 'Q', 'R', 'S', 'T', 'U', 'V', 'W', 'X', 'Y', 'Z']"
   ]
  },
  {
   "cell_type": "code",
   "execution_count": 9,
   "metadata": {},
   "outputs": [],
   "source": [
    "def webImage():\n",
    "    count = 0\n",
    "    resultTrue = 0\n",
    "    stat = ''\n",
    "    while(True):\n",
    "        status, frame = camm.read()\n",
    "        frame = cv2.flip(frame, 1)\n",
    "\n",
    "        y, x, _ = frame.shape\n",
    "\n",
    "        # print(str(x) + ' ' + str(y))\n",
    "        \n",
    "        detectHandPredict(frame)\n",
    "\n",
    "        if status:\n",
    "            count += 1\n",
    "        \n",
    "        # print(count)\n",
    "        if count%45 == 0:\n",
    "            hasil = detectHandPredict(frame)\n",
    "            if hasil == Aplhabet[resultTrue]:\n",
    "                print(Aplhabet[resultTrue] + \" : \" + str(hasil) + \" benar\")\n",
    "                stat = 'Benar'\n",
    "                resultTrue += 1\n",
    "            else:\n",
    "                stat = 'Salah'\n",
    "                print(Aplhabet[resultTrue] + \" : \" + str(hasil) + \" salah\")\n",
    "        cv2.putText(frame, stat, (40, 110), cv2.FONT_HERSHEY_PLAIN, 1, (0,0,0), 1)\n",
    "        cv2.rectangle(frame, (x-70, 85), (x-20, 135),(151, 134, 20), -1, cv2.LINE_8)\n",
    "        #gambar tangan\n",
    "        cv2.rectangle(frame, (x-140, 85), (x-90, 135),(238, 249, 252), -1, cv2.LINE_8)\n",
    "        cv2.putText(frame, Aplhabet[resultTrue], (x-128, 125), cv2.FONT_HERSHEY_PLAIN, 2.5, (0,0, 0), 2)\n",
    "\n",
    "        ret, buffer = cv2.imencode('.jpg', frame)\n",
    "        frame = buffer.tobytes()\n",
    "\n",
    "        yield(b'--frame\\r\\n' b'Content-Type: image/jpeg\\r\\n\\r\\n'+ frame + b'\\r\\n')\n",
    "        \n"
   ]
  },
  {
   "cell_type": "code",
   "execution_count": 11,
   "metadata": {},
   "outputs": [
    {
     "name": "stdout",
     "output_type": "stream",
     "text": [
      " * Serving Flask app '__main__' (lazy loading)\n",
      " * Environment: production\n",
      "\u001b[31m   WARNING: This is a development server. Do not use it in a production deployment.\u001b[0m\n",
      "\u001b[2m   Use a production WSGI server instead.\u001b[0m\n",
      " * Debug mode: off\n"
     ]
    },
    {
     "name": "stderr",
     "output_type": "stream",
     "text": [
      " * Running on http://127.0.0.1:5000/ (Press CTRL+C to quit)\n",
      "127.0.0.1 - - [23/Oct/2022 14:36:13] \"GET / HTTP/1.1\" 200 -\n",
      "127.0.0.1 - - [23/Oct/2022 14:36:13] \"GET /static/css/style.css HTTP/1.1\" 304 -\n",
      "127.0.0.1 - - [23/Oct/2022 14:36:13] \"GET /static/img/Logo%20Learn%20Silang.png HTTP/1.1\" 304 -\n",
      "127.0.0.1 - - [23/Oct/2022 14:36:13] \"GET /static/img/leaf1.png HTTP/1.1\" 304 -\n",
      "127.0.0.1 - - [23/Oct/2022 14:36:13] \"GET /static/img/leaf2.png HTTP/1.1\" 304 -\n",
      "127.0.0.1 - - [23/Oct/2022 14:36:13] \"GET /static/img/paper%20plane.png HTTP/1.1\" 304 -\n",
      "127.0.0.1 - - [23/Oct/2022 14:36:13] \"GET /static/img/character.png HTTP/1.1\" 304 -\n",
      "127.0.0.1 - - [23/Oct/2022 14:36:13] \"GET /static/img/step1.png HTTP/1.1\" 304 -\n",
      "127.0.0.1 - - [23/Oct/2022 14:36:13] \"GET /static/img/step2.png HTTP/1.1\" 304 -\n",
      "127.0.0.1 - - [23/Oct/2022 14:36:13] \"GET /static/img/step3.png HTTP/1.1\" 304 -\n",
      "127.0.0.1 - - [23/Oct/2022 14:36:13] \"GET /static/img/step4.png HTTP/1.1\" 304 -\n",
      "127.0.0.1 - - [23/Oct/2022 14:36:18] \"GET /menus.html HTTP/1.1\" 200 -\n",
      "127.0.0.1 - - [23/Oct/2022 14:36:18] \"GET /static/css/style.css HTTP/1.1\" 304 -\n",
      "127.0.0.1 - - [23/Oct/2022 14:36:18] \"GET /static/img/Logo%20Learn%20Silang.png HTTP/1.1\" 304 -\n",
      "127.0.0.1 - - [23/Oct/2022 14:36:18] \"GET /static/img/character2.png HTTP/1.1\" 304 -\n",
      "127.0.0.1 - - [23/Oct/2022 14:36:18] \"GET /static/img/paper%20plane.png HTTP/1.1\" 304 -\n",
      "127.0.0.1 - - [23/Oct/2022 14:36:18] \"GET /static/img/outlineimg.png HTTP/1.1\" 304 -\n",
      "127.0.0.1 - - [23/Oct/2022 14:36:18] \"GET /static/img/img-alphabet.png HTTP/1.1\" 304 -\n",
      "127.0.0.1 - - [23/Oct/2022 14:36:18] \"GET /static/img/img-angka.png HTTP/1.1\" 304 -\n",
      "127.0.0.1 - - [23/Oct/2022 14:36:18] \"GET /static/img/img-warna.png HTTP/1.1\" 304 -\n",
      "127.0.0.1 - - [23/Oct/2022 14:36:18] \"GET /static/img/img-buah.png HTTP/1.1\" 304 -\n",
      "127.0.0.1 - - [23/Oct/2022 14:36:18] \"GET /static/img/img-kendaraan.png HTTP/1.1\" 304 -\n",
      "127.0.0.1 - - [23/Oct/2022 14:36:18] \"GET /static/img/img-hewan.png HTTP/1.1\" 304 -\n"
     ]
    }
   ],
   "source": [
    "app = Flask(__name__)\n",
    "\n",
    "@app.route('/')\n",
    "@app.route('/index.html')\n",
    "def index():\n",
    "    return render_template('index.html')\n",
    "\n",
    "@app.route('/menus.html', methods=['POST', 'GET'])\n",
    "def menus():\n",
    "    if request.method == 'POST':\n",
    "        cat = request.form['alp']\n",
    "        # angka = request.form['angka']\n",
    "        return redirect(url_for('camera', category = cat))\n",
    "    return render_template('menus.html')\n",
    "\n",
    "@app.route('/camera', methods=['GET', 'POST'])\n",
    "def camera():\n",
    "    cat = request.args.get('category')\n",
    "\n",
    "    return render_template('camera.html', alph = cat)\n",
    "\n",
    "\n",
    "@app.route('/webcam')\n",
    "def webcam():\n",
    "    return Response(webImage(), mimetype='multipart/x-mixed-replace; boundary=frame')\n",
    "\n",
    "if __name__ == \"__main__\":\n",
    "    app.run()"
   ]
  },
  {
   "cell_type": "code",
   "execution_count": null,
   "metadata": {},
   "outputs": [],
   "source": []
  }
 ],
 "metadata": {
  "kernelspec": {
   "display_name": "Python 3.7.9 64-bit",
   "language": "python",
   "name": "python3"
  },
  "language_info": {
   "codemirror_mode": {
    "name": "ipython",
    "version": 3
   },
   "file_extension": ".py",
   "mimetype": "text/x-python",
   "name": "python",
   "nbconvert_exporter": "python",
   "pygments_lexer": "ipython3",
   "version": "3.7.9"
  },
  "orig_nbformat": 4,
  "vscode": {
   "interpreter": {
    "hash": "831373ce466d4fcacd6977648a6203ab03fa5b4aa06f275839477c1975216ffa"
   }
  }
 },
 "nbformat": 4,
 "nbformat_minor": 2
}
